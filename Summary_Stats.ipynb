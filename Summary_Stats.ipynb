{
  "nbformat": 4,
  "nbformat_minor": 0,
  "metadata": {
    "colab": {
      "provenance": [],
      "authorship_tag": "ABX9TyNK7Da9ntT0izamIfINVQwm",
      "include_colab_link": true
    },
    "kernelspec": {
      "name": "python3",
      "display_name": "Python 3"
    },
    "language_info": {
      "name": "python"
    }
  },
  "cells": [
    {
      "cell_type": "markdown",
      "metadata": {
        "id": "view-in-github",
        "colab_type": "text"
      },
      "source": [
        "<a href=\"https://colab.research.google.com/github/dishadtu/Pair_Trading_Copulas/blob/main/Summary_Stats.ipynb\" target=\"_parent\"><img src=\"https://colab.research.google.com/assets/colab-badge.svg\" alt=\"Open In Colab\"/></a>"
      ]
    },
    {
      "cell_type": "code",
      "execution_count": null,
      "metadata": {
        "id": "4G0-zsMppU7e"
      },
      "outputs": [],
      "source": [
        "import pandas as pd\n",
        "\n",
        "singular = pd.read_csv('/content/Strategy Result Mixture_with_both_volatilities.csv')\n",
        "mixture=pd.read_csv('/content/Strategy Result_For_Selected_Singular.csv')"
      ]
    },
    {
      "cell_type": "code",
      "source": [
        "import pandas as pd\n",
        "import numpy as np\n",
        "from scipy.stats import ttest_rel\n",
        "import matplotlib.pyplot as plt\n",
        "import seaborn as sns"
      ],
      "metadata": {
        "id": "pGCYsVOlwPBq"
      },
      "execution_count": null,
      "outputs": []
    },
    {
      "cell_type": "code",
      "source": [
        "print(\"Number of rows in singular:\", len(singular))\n",
        "print(\"Number of rows in mixture:\", len(mixture))\n"
      ],
      "metadata": {
        "colab": {
          "base_uri": "https://localhost:8080/"
        },
        "id": "3XeyADaTzCU1",
        "outputId": "09f1d1b8-482e-466d-8f82-c3203d611120"
      },
      "execution_count": null,
      "outputs": [
        {
          "output_type": "stream",
          "name": "stdout",
          "text": [
            "Number of rows in singular: 16\n",
            "Number of rows in mixture: 16\n"
          ]
        }
      ]
    },
    {
      "cell_type": "code",
      "source": [
        "print(singular.columns)\n",
        "print(mixture.columns)"
      ],
      "metadata": {
        "colab": {
          "base_uri": "https://localhost:8080/"
        },
        "id": "MN8xovfw0O6U",
        "outputId": "2671d823-6ac3-49c4-bb66-c189cdf73af3"
      },
      "execution_count": null,
      "outputs": [
        {
          "output_type": "stream",
          "name": "stdout",
          "text": [
            "Index(['stock1', 'stock2', 'daily_volatility', 'annual_volatility',\n",
            "       'sharpe_ratio', 'cagr'],\n",
            "      dtype='object')\n",
            "Index(['stock1', 'stock2', 'daily_volatility', 'annual_volatility',\n",
            "       'sharpe_ratio', 'cagr'],\n",
            "      dtype='object')\n"
          ]
        }
      ]
    },
    {
      "cell_type": "code",
      "source": [
        "print(mixture.columns)"
      ],
      "metadata": {
        "colab": {
          "base_uri": "https://localhost:8080/"
        },
        "id": "jSY8Btew0yOP",
        "outputId": "cdea7191-cbc0-4e1e-88d4-392ddc5492c2"
      },
      "execution_count": null,
      "outputs": [
        {
          "output_type": "stream",
          "name": "stdout",
          "text": [
            "Index(['stock1', 'stock2', 'daily_volatility', 'annual_volatility',\n",
            "       'sharpe_ratio', 'cagr'],\n",
            "      dtype='object')\n"
          ]
        }
      ]
    },
    {
      "cell_type": "code",
      "source": [
        "# Ensure numeric types for calculations\n",
        "singular['sharpe_ratio'] = pd.to_numeric(singular['sharpe_ratio'])\n",
        "singular['cagr'] = pd.to_numeric(singular['cagr'])\n",
        "singular['annual_volatility'] = pd.to_numeric(singular['annual_volatility'])\n",
        "singular['daily_volatility'] = pd.to_numeric(singular['daily_volatility'])"
      ],
      "metadata": {
        "id": "iUptA3eD0LIQ"
      },
      "execution_count": null,
      "outputs": []
    },
    {
      "cell_type": "code",
      "source": [
        "mixture['sharpe_ratio'] = pd.to_numeric(mixture['sharpe_ratio'])\n",
        "mixture['cagr'] = pd.to_numeric(mixture['cagr'])\n",
        "mixture['annual_volatility'] = pd.to_numeric(mixture['annual_volatility'])\n",
        "mixture['daily_volatility'] = pd.to_numeric(mixture['daily_volatility'])"
      ],
      "metadata": {
        "id": "ejOYAX8L0-Qd"
      },
      "execution_count": null,
      "outputs": []
    },
    {
      "cell_type": "code",
      "source": [
        "# Calculate differences (mixture - singular)\n",
        "sharpe_diff = mixture['sharpe_ratio'] - singular['sharpe_ratio']\n",
        "cagr_diff = mixture['cagr'] - singular['cagr']\n",
        "annual_vol_diff = mixture['annual_volatility'] - singular['annual_volatility']\n",
        "daily_vol_diff = mixture['daily_volatility'] - singular['daily_volatility']"
      ],
      "metadata": {
        "id": "dKytwhfh1GXH"
      },
      "execution_count": null,
      "outputs": []
    },
    {
      "cell_type": "code",
      "source": [
        "# Create a difference table\n",
        "diff_table = pd.DataFrame({\n",
        "    'stock1': singular['stock1'],\n",
        "    'stock2': singular['stock2'],\n",
        "    'sharpe_diff': sharpe_diff,\n",
        "    'cagr_diff': cagr_diff,\n",
        "    'annual_vol_diff': annual_vol_diff,\n",
        "    'daily_vol_diff': daily_vol_diff\n",
        "})"
      ],
      "metadata": {
        "id": "oNdwbcs91M_c"
      },
      "execution_count": null,
      "outputs": []
    },
    {
      "cell_type": "code",
      "source": [
        "# Calculate summary statistics\n",
        "summary_stats = {\n",
        "    'Metric': ['Sharpe Ratio', 'CAGR', 'Annual Volatility', 'Daily Volatility'],\n",
        "    'Singular Mean': [\n",
        "        singular['sharpe_ratio'].mean(),\n",
        "        singular['cagr'].mean(),\n",
        "        singular['annual_volatility'].mean(),\n",
        "        singular['daily_volatility'].mean()\n",
        "    ],\n",
        "    'Singular Std': [\n",
        "        singular['sharpe_ratio'].std(),\n",
        "        singular['cagr'].std(),\n",
        "        singular['annual_volatility'].std(),\n",
        "        singular['daily_volatility'].std()\n",
        "    ],\n",
        "    'Mixture Mean': [\n",
        "        mixture['sharpe_ratio'].mean(),\n",
        "        mixture['cagr'].mean(),\n",
        "        mixture['annual_volatility'].mean(),\n",
        "        mixture['daily_volatility'].mean()\n",
        "    ],\n",
        "    'Mixture Std': [\n",
        "        mixture['sharpe_ratio'].std(),\n",
        "        mixture['cagr'].std(),\n",
        "        mixture['annual_volatility'].std(),\n",
        "        mixture['daily_volatility'].std()\n",
        "    ],\n",
        "    'Mean Improvement': [\n",
        "        sharpe_diff.mean(),\n",
        "        cagr_diff.mean(),\n",
        "        annual_vol_diff.mean(),\n",
        "        daily_vol_diff.mean()\n",
        "    ],\n",
        "    'Std Improvement': [\n",
        "        sharpe_diff.std(),\n",
        "        cagr_diff.std(),\n",
        "        annual_vol_diff.std(),\n",
        "        daily_vol_diff.std()\n",
        "    ],\n",
        "    'Percent Improvement': [\n",
        "        (sharpe_diff.mean() / singular['sharpe_ratio'].mean()) * 100 if singular['sharpe_ratio'].mean() != 0 else np.nan,\n",
        "        (cagr_diff.mean() / singular['cagr'].mean()) * 100 if singular['cagr'].mean() != 0 else np.nan,\n",
        "        (annual_vol_diff.mean() / singular['annual_volatility'].mean()) * 100,\n",
        "        (daily_vol_diff.mean() / singular['daily_volatility'].mean()) * 100\n",
        "    ]\n",
        "}\n",
        "\n",
        "# Create summary DataFrame\n",
        "summary_df = pd.DataFrame(summary_stats)"
      ],
      "metadata": {
        "id": "kyGVSp6_1SzT"
      },
      "execution_count": null,
      "outputs": []
    },
    {
      "cell_type": "code",
      "source": [
        "# Perform paired t-tests\n",
        "sharpe_ttest = ttest_rel(mixture['sharpe_ratio'], singular['sharpe_ratio'])\n",
        "cagr_ttest = ttest_rel(mixture['cagr'], singular['cagr'])\n",
        "annual_vol_ttest = ttest_rel(mixture['annual_volatility'], singular['annual_volatility'])\n",
        "daily_vol_ttest = ttest_rel(mixture['daily_volatility'], singular['daily_volatility'])\n",
        "\n",
        "# Add p-values to summary DataFrame\n",
        "summary_df['p-value'] = [\n",
        "    sharpe_ttest.pvalue,\n",
        "    cagr_ttest.pvalue,\n",
        "    annual_vol_ttest.pvalue,\n",
        "    daily_vol_ttest.pvalue\n",
        "]"
      ],
      "metadata": {
        "id": "LCmHBiot1W4n"
      },
      "execution_count": null,
      "outputs": []
    },
    {
      "cell_type": "code",
      "source": [
        "# Add significance indicator\n",
        "alpha = 0.05\n",
        "summary_df['Significant'] = summary_df['p-value'] < alpha\n",
        "\n",
        "# Count improvements\n",
        "sharpe_improved = (sharpe_diff > 0).sum()\n",
        "cagr_improved = (cagr_diff > 0).sum()\n",
        "total_pairs = len(singular)\n",
        "\n",
        "print(f\"Summary Statistics:\\n{summary_df}\\n\")\n",
        "print(f\"Sharpe Ratio improved in {sharpe_improved}/{total_pairs} pairs ({sharpe_improved/total_pairs*100:.1f}%)\")\n",
        "print(f\"CAGR improved in {cagr_improved}/{total_pairs} pairs ({cagr_improved/total_pairs*100:.1f}%)\")\n",
        "print(\"\\nDetailed t-test results:\")\n",
        "print(f\"Sharpe Ratio: t={sharpe_ttest.statistic:.4f}, p={sharpe_ttest.pvalue:.4f}\")\n",
        "print(f\"CAGR: t={cagr_ttest.statistic:.4f}, p={cagr_ttest.pvalue:.4f}\")\n",
        "print(f\"Annual Volatility: t={annual_vol_ttest.statistic:.4f}, p={annual_vol_ttest.pvalue:.4f}\")\n",
        "\n"
      ],
      "metadata": {
        "colab": {
          "base_uri": "https://localhost:8080/"
        },
        "id": "d37VQoJL1nkx",
        "outputId": "35f83ae3-f53d-46da-cc79-fa8d9322d1e0"
      },
      "execution_count": null,
      "outputs": [
        {
          "output_type": "stream",
          "name": "stdout",
          "text": [
            "Summary Statistics:\n",
            "              Metric  Singular Mean  Singular Std  Mixture Mean  Mixture Std  \\\n",
            "0       Sharpe Ratio      -0.026778      0.508298     -0.567142     0.808046   \n",
            "1               CAGR       0.564458      1.686375      0.068601     0.288188   \n",
            "2  Annual Volatility       1.472621      1.066246      0.251831     0.361132   \n",
            "3   Daily Volatility       0.092766      0.067167      0.015864     0.022749   \n",
            "\n",
            "   Mean Improvement  Std Improvement  Percent Improvement   p-value  \\\n",
            "0         -0.540363         0.604685          2017.912843  0.002767   \n",
            "1         -0.495857         1.405530           -87.846579  0.178602   \n",
            "2         -1.220791         0.985038           -82.899163  0.000172   \n",
            "3         -0.076903         0.062052           -82.899163  0.000172   \n",
            "\n",
            "   Significant  \n",
            "0         True  \n",
            "1        False  \n",
            "2         True  \n",
            "3         True  \n",
            "\n",
            "Sharpe Ratio improved in 2/16 pairs (12.5%)\n",
            "CAGR improved in 7/16 pairs (43.8%)\n",
            "\n",
            "Detailed t-test results:\n",
            "Sharpe Ratio: t=-3.5745, p=0.0028\n",
            "CAGR: t=-1.4112, p=0.1786\n",
            "Annual Volatility: t=-4.9573, p=0.0002\n"
          ]
        }
      ]
    },
    {
      "cell_type": "code",
      "source": [
        "# Save the difference table for further analysis\n",
        "diff_table.to_csv('performance_differences.csv', index=False)\n",
        "print(\"\\nDetailed differences table saved to 'performance_differences.csv'\")\n"
      ],
      "metadata": {
        "colab": {
          "base_uri": "https://localhost:8080/"
        },
        "id": "4Y4ccAnhv_Or",
        "outputId": "df2b0dd9-0630-4849-8c2f-5f4a4384bff2"
      },
      "execution_count": null,
      "outputs": [
        {
          "output_type": "stream",
          "name": "stdout",
          "text": [
            "\n",
            "Detailed differences table saved to 'performance_differences.csv'\n"
          ]
        }
      ]
    },
    {
      "cell_type": "code",
      "source": [
        "# Save summary statistics to a CSV file\n",
        "summary_df.to_csv('summary_statistics.csv', index=False)"
      ],
      "metadata": {
        "id": "UxgASna00AsU"
      },
      "execution_count": null,
      "outputs": []
    }
  ]
}